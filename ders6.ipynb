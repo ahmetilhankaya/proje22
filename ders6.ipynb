{
 "cells": [
  {
   "cell_type": "code",
   "execution_count": 42,
   "metadata": {},
   "outputs": [
    {
     "name": "stdout",
     "output_type": "stream",
     "text": [
      "['domates', 'patates', 'muz', 'peynir']\n",
      "4\n",
      "<class 'list'>\n"
     ]
    }
   ],
   "source": [
    "# data stuctures - veri yapıları\n",
    "\n",
    "alışveriş_listesi = [\"domates\" , \"patates\" , \"muz\" , \"peynir\"]\n",
    "print(alışveriş_listesi)\n",
    "print(len(alışveriş_listesi))\n",
    "print(type(alışveriş_listesi))\n"
   ]
  },
  {
   "cell_type": "code",
   "execution_count": 43,
   "metadata": {},
   "outputs": [
    {
     "data": {
      "text/plain": [
       "5"
      ]
     },
     "execution_count": 43,
     "metadata": {},
     "output_type": "execute_result"
    }
   ],
   "source": [
    "liste = [ 25, 1.2, True, \"metin\" , [\"matematik\" , 25] ]\n",
    "len(liste)"
   ]
  },
  {
   "cell_type": "markdown",
   "metadata": {},
   "source": [
    "### tüm dillerde array-dizi mantığı köşeli parantez ile kullanılır, pyton için bu liste olarak adlandırılır\n"
   ]
  },
  {
   "cell_type": "code",
   "execution_count": 44,
   "metadata": {},
   "outputs": [
    {
     "name": "stdout",
     "output_type": "stream",
     "text": [
      "r b a a b\n"
     ]
    }
   ],
   "source": [
    "a = \"merhaba\"  # immutable - str\n",
    "\n",
    "ls_a= [\"m\", \"e\", \"r\", \"h\", \"a\", \"b\", \"a\"] # mutable - list\n",
    "ls_a= (\"m\", \"e\", \"r\", \"h\", \"a\", \"b\", \"a\") # immutable - tuple - parantezsiz de olur\n",
    "\n",
    "# for x in ls_a:  #or a\n",
    "#     print(x)\n",
    "\n",
    "# print(len(a), len(ls_a))\n",
    "\n",
    "print(  a[2] , ls_a[5], a[len(a)-1], a[-1], a[-2] )  #or ls_a\n"
   ]
  },
  {
   "cell_type": "code",
   "execution_count": 45,
   "metadata": {},
   "outputs": [
    {
     "ename": "TypeError",
     "evalue": "'tuple' object does not support item assignment",
     "output_type": "error",
     "traceback": [
      "\u001b[1;31m---------------------------------------------------------------------------\u001b[0m",
      "\u001b[1;31mTypeError\u001b[0m                                 Traceback (most recent call last)",
      "Cell \u001b[1;32mIn [45], line 1\u001b[0m\n\u001b[1;32m----> 1\u001b[0m ls_a [ \u001b[39m3\u001b[39;49m ] \u001b[39m=\u001b[39m \u001b[39m\"\u001b[39m\u001b[39mx\u001b[39m\u001b[39m\"\u001b[39m\n\u001b[0;32m      2\u001b[0m \u001b[39m# a[3] = \"z\"\u001b[39;00m\n\u001b[0;32m      3\u001b[0m \u001b[39mprint\u001b[39m(ls_a)\n",
      "\u001b[1;31mTypeError\u001b[0m: 'tuple' object does not support item assignment"
     ]
    }
   ],
   "source": [
    "ls_a [ 3 ] = \"x\"\n",
    "# a[3] = \"z\"\n",
    "print(ls_a)\n",
    "# print(a) hata verir"
   ]
  },
  {
   "cell_type": "code",
   "execution_count": null,
   "metadata": {},
   "outputs": [
    {
     "name": "stdout",
     "output_type": "stream",
     "text": [
      "merzaba\n",
      "merzaba\n",
      "merzaba\n"
     ]
    }
   ],
   "source": [
    "# a str değişkeninden veya tp_a dan merzaba yazdırın\n",
    "\n",
    "print(a[0] + a[1] + a[2] + \"z\" + a[4] + a[5] + a[6])\n",
    "\n",
    "for i in range(len(a)):\n",
    "    if i ==3:\n",
    "        print(\"z\",end=\"\")\n",
    "        continue\n",
    "    print(a[i], end=\"\")\n",
    "print(\"\")\n",
    "print( a[0:3] + \"z\" + a[4:])\n",
    "\n",
    "       \n",
    "\n",
    "    \n",
    "    \n"
   ]
  },
  {
   "cell_type": "code",
   "execution_count": null,
   "metadata": {},
   "outputs": [
    {
     "name": "stdout",
     "output_type": "stream",
     "text": [
      "m\n",
      "h\n",
      "a\n"
     ]
    }
   ],
   "source": [
    "a = \"merhaba\"\n",
    "\n",
    "for indis in range(0,len(a),3): # range(len(a))\n",
    "    # if indis % 2 == 0:\n",
    "\n",
    "    #     print(a[indis])\n",
    "     \n",
    "     print(a[indis])\n",
    "\n",
    "\n"
   ]
  },
  {
   "cell_type": "code",
   "execution_count": 52,
   "metadata": {},
   "outputs": [
    {
     "name": "stdout",
     "output_type": "stream",
     "text": [
      "merhaba\n"
     ]
    }
   ],
   "source": [
    "print(a[0:7:3])\n"
   ]
  },
  {
   "cell_type": "code",
   "execution_count": 58,
   "metadata": {},
   "outputs": [
    {
     "name": "stdout",
     "output_type": "stream",
     "text": [
      "programlama 88\n",
      "matematik  55\n",
      "programlama 88\n",
      "fizik 22\n"
     ]
    }
   ],
   "source": [
    "# matematik 55\n",
    "# programlaa 88\n",
    "# fizik 22\n",
    "\n",
    "notlar = [ \n",
    "    \"matematik \",55,\"programlama\",88,\"fizik\",22\n",
    "]\n",
    "\n",
    "print(notlar[2], notlar[3])\n",
    "\n",
    "for z in range(0,len(notlar),2):\n",
    "    print(notlar[z] , notlar[z+1])\n"
   ]
  },
  {
   "cell_type": "code",
   "execution_count": 60,
   "metadata": {},
   "outputs": [
    {
     "name": "stdout",
     "output_type": "stream",
     "text": [
      "3\n",
      "3 matematik\n"
     ]
    }
   ],
   "source": [
    "notlar_v2 = [\"matematik\",55],[\"fizik\",22],[\"kimya\",12]\n",
    "print(len(notlar_v2))\n",
    "\n",
    "print(len(notlar_v2), notlar_v2[0][0])"
   ]
  },
  {
   "cell_type": "code",
   "execution_count": 68,
   "metadata": {},
   "outputs": [
    {
     "name": "stdout",
     "output_type": "stream",
     "text": [
      "[2, 9, 4] [2, 9, 4]\n",
      "[2, 9, 4] [2, 5, 4]\n"
     ]
    }
   ],
   "source": [
    "x = [2,9,4]\n",
    "y = x[:] # : ile saklama yeri arılır deep copy olara ayrı bir şekilde kopyalar\n",
    "print(x,y)\n",
    "\n",
    "y[1]=5 \n",
    "print(x,y)"
   ]
  },
  {
   "cell_type": "code",
   "execution_count": 78,
   "metadata": {},
   "outputs": [
    {
     "data": {
      "text/plain": [
       "['ekmek', 'patates', 'soğan']"
      ]
     },
     "execution_count": 78,
     "metadata": {},
     "output_type": "execute_result"
    }
   ],
   "source": [
    "pazar_listesi = [\"patates\", \"domates\",\"nar\"]\n",
    "\n",
    "pazar_listesi.append(\"soğan\")\n",
    "pazar_listesi.remove(\"domates\")\n",
    "pazar_listesi\n",
    "pazar_listesi.insert(0,\"ekmek\")\n",
    "pazar_listesi\n",
    "del pazar_listesi[2]\n",
    "pazar_listesi"
   ]
  },
  {
   "cell_type": "markdown",
   "metadata": {},
   "source": [
    "# Dictionary- sözlük tipi değişken"
   ]
  },
  {
   "cell_type": "code",
   "execution_count": 79,
   "metadata": {},
   "outputs": [
    {
     "name": "stdout",
     "output_type": "stream",
     "text": [
      "{'anahtar': 'değer', 'time': 'zaman', 'matmatik': 55}\n"
     ]
    }
   ],
   "source": [
    "# anahtar-değer ikilisi    key-value\n",
    "\n",
    "sözlük = {\"anahtar\": \"değer\", \"time\": \"zaman\",\"matmatik\":55}\n",
    "# print(sözlük)\n"
   ]
  },
  {
   "cell_type": "code",
   "execution_count": 81,
   "metadata": {},
   "outputs": [
    {
     "name": "stdout",
     "output_type": "stream",
     "text": [
      "h h h\n"
     ]
    }
   ],
   "source": [
    "dc_a = {0:\"m\", 1:\"e\",2:\"r\",3:\"h\",4:\"a\",5:\"b\",6:\"a\"}\n",
    "print(a[3], ls_a[3], dc_a[3])"
   ]
  },
  {
   "cell_type": "code",
   "execution_count": 87,
   "metadata": {},
   "outputs": [
    {
     "name": "stdout",
     "output_type": "stream",
     "text": [
      "zaman\n"
     ]
    }
   ],
   "source": [
    "sözlük = {\"anahtar\": \"değer\", \"time\": \"zaman\",\"matmatik\":55}\n",
    "print(sözlük[\"time\"])\n",
    "\n",
    "# sözlükteki son nesneyi yaz\n",
    "\n",
    "# print(sözlük[2])"
   ]
  },
  {
   "cell_type": "code",
   "execution_count": 92,
   "metadata": {},
   "outputs": [
    {
     "name": "stdout",
     "output_type": "stream",
     "text": [
      "değer\n",
      "zaman\n",
      "55\n",
      "anahtar : değer\n",
      "time : zaman\n",
      "matmatik : 55\n"
     ]
    }
   ],
   "source": [
    "for i in sözlük.values():\n",
    "    print(i)\n",
    "\n",
    "for i in sözlük:\n",
    "    print(i , \":\" , sözlük[i])"
   ]
  },
  {
   "cell_type": "code",
   "execution_count": 94,
   "metadata": {},
   "outputs": [
    {
     "name": "stdout",
     "output_type": "stream",
     "text": [
      "[1, 3, 4, 5, 7, 9]\n"
     ]
    }
   ],
   "source": [
    "sayilar = [ 9,5,7,1,3,4]\n",
    "sayilar_d = {1:22, 2:34}\n",
    "sayilar.sort()\n",
    "print(sayilar)"
   ]
  }
 ],
 "metadata": {
  "kernelspec": {
   "display_name": "Python 3.11.0 64-bit",
   "language": "python",
   "name": "python3"
  },
  "language_info": {
   "codemirror_mode": {
    "name": "ipython",
    "version": 3
   },
   "file_extension": ".py",
   "mimetype": "text/x-python",
   "name": "python",
   "nbconvert_exporter": "python",
   "pygments_lexer": "ipython3",
   "version": "3.11.0"
  },
  "orig_nbformat": 4,
  "vscode": {
   "interpreter": {
    "hash": "3805fcecafd0f457c861551e64d5e2c280654faa44a1486f57519e7a94cadd23"
   }
  }
 },
 "nbformat": 4,
 "nbformat_minor": 2
}
