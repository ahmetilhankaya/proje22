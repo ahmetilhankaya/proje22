{
 "cells": [
  {
   "cell_type": "code",
   "execution_count": 3,
   "metadata": {},
   "outputs": [
    {
     "data": {
      "text/plain": [
       "'merhaba'"
      ]
     },
     "execution_count": 3,
     "metadata": {},
     "output_type": "execute_result"
    }
   ],
   "source": [
    "a = 'merhaba'\n",
    "a\n"
   ]
  },
  {
   "cell_type": "code",
   "execution_count": 4,
   "metadata": {},
   "outputs": [
    {
     "name": "stdout",
     "output_type": "stream",
     "text": [
      "merhabamerhaba\n"
     ]
    }
   ],
   "source": [
    "a *= 2\n",
    "print(a)"
   ]
  },
  {
   "cell_type": "markdown",
   "metadata": {},
   "source": [
    "# eşittir operatörü öncesinde başka operatör kullanılırsa son değeri kendisine atar..."
   ]
  },
  {
   "cell_type": "code",
   "execution_count": 5,
   "metadata": {},
   "outputs": [
    {
     "name": "stdout",
     "output_type": "stream",
     "text": [
      "5\n",
      "6\n",
      "7\n",
      "28\n",
      "14.0\n",
      "196.0\n",
      "65.0\n",
      "0.0\n",
      "-1.0\n"
     ]
    }
   ],
   "source": [
    "x = 5\n",
    "print(x)\n",
    "x = x + 1\n",
    "print(x)\n",
    "x += 1\n",
    "print(x)\n",
    "x *= 4\n",
    "print(x)\n",
    "x /= 2\n",
    "print(x)\n",
    "x **= 2\n",
    "print(x)\n",
    "x //= 3\n",
    "print(x)\n",
    "x %= 5\n",
    "print(x)\n",
    "x -= 1\n",
    "print(x)"
   ]
  },
  {
   "cell_type": "markdown",
   "metadata": {},
   "source": [
    "# LOOPS - DÖNGÜLER\n"
   ]
  },
  {
   "cell_type": "markdown",
   "metadata": {},
   "source": [
    "WHİLE-FOR"
   ]
  },
  {
   "cell_type": "code",
   "execution_count": 6,
   "metadata": {},
   "outputs": [
    {
     "name": "stdout",
     "output_type": "stream",
     "text": [
      "3\n",
      "4\n",
      "5\n",
      "6\n",
      "7\n",
      "8\n",
      "9\n",
      "program bitti\n"
     ]
    }
   ],
   "source": [
    "a = 3 \n",
    "while a < 10 :\n",
    "    print(a)\n",
    "    a += 1\n",
    "print(\"program bitti\")"
   ]
  },
  {
   "cell_type": "code",
   "execution_count": 7,
   "metadata": {},
   "outputs": [
    {
     "name": "stdout",
     "output_type": "stream",
     "text": [
      "1\n",
      "2\n",
      "3\n",
      "4\n",
      "5\n"
     ]
    }
   ],
   "source": [
    "x = 0\n",
    "while x < 5 :\n",
    "    x += 1\n",
    "    print(x)"
   ]
  },
  {
   "cell_type": "code",
   "execution_count": 8,
   "metadata": {},
   "outputs": [
    {
     "name": "stdout",
     "output_type": "stream",
     "text": [
      "#\n",
      "##\n",
      "###\n",
      "####\n",
      "#####\n"
     ]
    }
   ],
   "source": [
    "x = 0\n",
    "while x < 5:\n",
    "    x += 1\n",
    "    print(x * \"#\")"
   ]
  },
  {
   "cell_type": "code",
   "execution_count": 9,
   "metadata": {},
   "outputs": [
    {
     "name": "stdout",
     "output_type": "stream",
     "text": [
      "5\n",
      "4\n",
      "3\n",
      "2\n",
      "1\n"
     ]
    }
   ],
   "source": [
    "x = 0\n",
    "while x < 5 :\n",
    "    x += 1\n",
    "    print(6-x)"
   ]
  },
  {
   "cell_type": "code",
   "execution_count": 10,
   "metadata": {},
   "outputs": [
    {
     "name": "stdout",
     "output_type": "stream",
     "text": [
      "xxxxx\n",
      "xxxx\n",
      "xxx\n",
      "xx\n",
      "x\n"
     ]
    }
   ],
   "source": [
    "x = 5 \n",
    "while x > 0 :\n",
    "    print(x * \"x\")\n",
    "    x -= 1"
   ]
  },
  {
   "cell_type": "code",
   "execution_count": 11,
   "metadata": {},
   "outputs": [
    {
     "name": "stdout",
     "output_type": "stream",
     "text": [
      "o\n",
      "oo\n",
      "ooo\n",
      "oooo\n",
      "ooooo\n",
      "oooo\n",
      "ooo\n",
      "oo\n",
      "o\n"
     ]
    }
   ],
   "source": [
    "x = 0\n",
    "while x < 9 :\n",
    "    x += 1\n",
    "    if x <= 5:\n",
    "        print(x * \"o\")\n",
    "    else :\n",
    "        print( (10-x) * \"o\" )"
   ]
  },
  {
   "cell_type": "code",
   "execution_count": 12,
   "metadata": {},
   "outputs": [
    {
     "name": "stdout",
     "output_type": "stream",
     "text": [
      "5 Faktoriyelin sonucu:  120\n"
     ]
    }
   ],
   "source": [
    "# faktoriyel hesabı\n",
    "faktoriyel = 5\n",
    "sonuc = 1\n",
    "while faktoriyel > 1 :\n",
    "    sonuc *= faktoriyel\n",
    "#    print(sonuc, faktoriyel)\n",
    "    faktoriyel -= 1\n",
    "print(\"5 Faktoriyelin sonucu: \", sonuc)"
   ]
  },
  {
   "cell_type": "code",
   "execution_count": 13,
   "metadata": {},
   "outputs": [
    {
     "name": "stdout",
     "output_type": "stream",
     "text": [
      "0\n",
      "2\n",
      "4\n"
     ]
    }
   ],
   "source": [
    "#  sonsuz döngü olan While True ' yu durdurmak için \n",
    "\n",
    "x = 0 \n",
    "while not False :\n",
    "    print(x)\n",
    "    x += 2\n",
    "    if x >= 5:\n",
    "        break"
   ]
  },
  {
   "cell_type": "code",
   "execution_count": 14,
   "metadata": {},
   "outputs": [
    {
     "name": "stdout",
     "output_type": "stream",
     "text": [
      "x: 5  y: 4\n",
      "x: 5  y: 3\n",
      "x: 5  y: 2\n",
      "x: 5  y: 1\n",
      "x: 5  y: 0\n",
      "x: 4  y: 4\n",
      "x: 4  y: 3\n",
      "x: 4  y: 2\n",
      "x: 4  y: 1\n",
      "x: 4  y: 0\n",
      "x: 3  y: 4\n",
      "x: 3  y: 3\n",
      "x: 3  y: 2\n",
      "x: 3  y: 1\n",
      "x: 3  y: 0\n",
      "x: 2  y: 4\n",
      "x: 2  y: 3\n",
      "x: 2  y: 2\n",
      "x: 2  y: 1\n",
      "x: 2  y: 0\n",
      "x: 1  y: 4\n",
      "x: 1  y: 3\n",
      "x: 1  y: 2\n",
      "x: 1  y: 1\n",
      "x: 1  y: 0\n"
     ]
    }
   ],
   "source": [
    "#iç içe döngüler\n",
    "x  = 5 \n",
    "while  x > 0 :\n",
    "    y = 5\n",
    "    while y > 0 :\n",
    "        y -= 1\n",
    "        print(\"x:\", x ,\" y:\", y )\n",
    "    x -= 1"
   ]
  },
  {
   "cell_type": "code",
   "execution_count": 15,
   "metadata": {},
   "outputs": [
    {
     "name": "stdout",
     "output_type": "stream",
     "text": [
      "5-6-7-8#10\n"
     ]
    }
   ],
   "source": [
    "print( 5 , 6 , 7 , 8 , sep=\"-\", end=\"#\")\n",
    "\n",
    "print(10)"
   ]
  },
  {
   "cell_type": "code",
   "execution_count": 16,
   "metadata": {},
   "outputs": [
    {
     "name": "stdout",
     "output_type": "stream",
     "text": [
      "1 1\n",
      "2 12\n",
      "3 123\n",
      "4 1234\n",
      "5 12345\n"
     ]
    }
   ],
   "source": [
    "# 1\n",
    "# 12\n",
    "# 123\n",
    "# 1234\n",
    "# 12345\n",
    "\n",
    "x = 0\n",
    "while x < 5:\n",
    "    x += 1\n",
    "    print(x,end=\" \")\n",
    "    y = 0\n",
    "    while y < x :\n",
    "        y += 1\n",
    "        print(y,end=\"\")\n",
    "    print(\"\")"
   ]
  },
  {
   "cell_type": "code",
   "execution_count": 17,
   "metadata": {},
   "outputs": [
    {
     "name": "stdout",
     "output_type": "stream",
     "text": [
      "Requirement already satisfied: pygame in c:\\users\\asilkan\\appdata\\local\\programs\\python\\python311\\lib\\site-packages (2.1.3.dev8)\n",
      "Note: you may need to restart the kernel to use updated packages.\n"
     ]
    },
    {
     "name": "stderr",
     "output_type": "stream",
     "text": [
      "\n",
      "[notice] A new release of pip available: 22.3 -> 22.3.1\n",
      "[notice] To update, run: python.exe -m pip install --upgrade pip\n"
     ]
    }
   ],
   "source": [
    "%pip install pygame"
   ]
  },
  {
   "cell_type": "code",
   "execution_count": 18,
   "metadata": {},
   "outputs": [
    {
     "name": "stdout",
     "output_type": "stream",
     "text": [
      "pygame 2.1.3.dev8 (SDL 2.0.22, Python 3.11.0)\n",
      "Hello from the pygame community. https://www.pygame.org/contribute.html\n"
     ]
    }
   ],
   "source": [
    "import pygame\n"
   ]
  },
  {
   "cell_type": "code",
   "execution_count": 19,
   "metadata": {},
   "outputs": [
    {
     "name": "stdout",
     "output_type": "stream",
     "text": [
      "Requirement already satisfied: pygame in c:\\users\\asilkan\\appdata\\local\\programs\\python\\python311\\lib\\site-packages (2.1.3.dev8)Note: you may need to restart the kernel to use updated packages.\n",
      "\n"
     ]
    },
    {
     "name": "stderr",
     "output_type": "stream",
     "text": [
      "\n",
      "[notice] A new release of pip available: 22.3 -> 22.3.1\n",
      "[notice] To update, run: python.exe -m pip install --upgrade pip\n"
     ]
    }
   ],
   "source": [
    "%pip install pygame\n"
   ]
  },
  {
   "cell_type": "code",
   "execution_count": 20,
   "metadata": {},
   "outputs": [],
   "source": [
    "import pygame"
   ]
  },
  {
   "cell_type": "code",
   "execution_count": null,
   "metadata": {},
   "outputs": [
    {
     "name": "stdout",
     "output_type": "stream",
     "text": [
      "pygame 2.1.3.dev8 (SDL 2.0.22, Python 3.11.0)\n",
      "Hello from the pygame community. https://www.pygame.org/contribute.html\n"
     ]
    }
   ],
   "source": [
    "import pygame"
   ]
  },
  {
   "cell_type": "code",
   "execution_count": 23,
   "metadata": {},
   "outputs": [
    {
     "name": "stdout",
     "output_type": "stream",
     "text": [
      "cıkmak için -1 yazınız...\n",
      "final için almanız gereken not: 54\n",
      "final için almanız gereken not: 54\n",
      "final için almanız gereken not: 54\n",
      "çıkış yapıldı\n"
     ]
    }
   ],
   "source": [
    "import math\n",
    "print(\"cıkmak için -1 yazınız...\")\n",
    "while True :\n",
    "    vize = int(input(\"vize sonucunu giriniz:\"))\n",
    "    if vize == -1:\n",
    "        print(\"çıkış yapıldı\")\n",
    "        break\n",
    "    if vize < 50:\n",
    "        final_için_gerekli_not=(50-0.4*vize) / 0.6\n",
    "        print(\"final için almanız gereken not:\", math.ceil(final_için_gerekli_not))\n",
    "    else:\n",
    "        print(\"final için almanız gereken not: 50\")"
   ]
  },
  {
   "cell_type": "code",
   "execution_count": 24,
   "metadata": {},
   "outputs": [
    {
     "name": "stdout",
     "output_type": "stream",
     "text": [
      "Tahmininiz düşük\n",
      "Tahmininiz düşük\n",
      "Tahmininiz düşük\n",
      "Tahmininiz düşük\n",
      "Tahmininiz düşük\n",
      "Tebrikler bildiniz.\n"
     ]
    }
   ],
   "source": [
    "import random\n",
    "\n",
    "bilgisayarın_attığı_sayı = random.randrange(0,10)\n",
    "\n",
    "while True:\n",
    "    tahmin = int(input(\"1-9 arası bir sayı girniz.\"))\n",
    "    if tahmin > bilgisayarın_attığı_sayı :\n",
    "        print(\"Tahmininiz yüksek\")\n",
    "    elif tahmin < bilgisayarın_attığı_sayı :\n",
    "        print(\"Tahmininiz düşük\")\n",
    "    else:\n",
    "        print(\"Tebrikler bildiniz.\")\n",
    "        break"
   ]
  },
  {
   "cell_type": "markdown",
   "metadata": {},
   "source": [
    "# for döngüsü"
   ]
  },
  {
   "cell_type": "code",
   "execution_count": 25,
   "metadata": {},
   "outputs": [
    {
     "name": "stdout",
     "output_type": "stream",
     "text": [
      "1\n",
      "34\n",
      "6\n",
      "8\n",
      "9\n"
     ]
    }
   ],
   "source": [
    "for i in 1,34,6,8,9 :\n",
    "    print(i)"
   ]
  },
  {
   "cell_type": "code",
   "execution_count": 26,
   "metadata": {},
   "outputs": [
    {
     "name": "stdout",
     "output_type": "stream",
     "text": [
      "5\n",
      "7\n",
      "9\n",
      "5\n",
      "7\n",
      "9\n"
     ]
    }
   ],
   "source": [
    "for i in range(5,10,2):\n",
    "    print(i)\n",
    "i = 5\n",
    "while  i < 10:\n",
    "    print(i)\n",
    "    i += 2"
   ]
  },
  {
   "cell_type": "code",
   "execution_count": 27,
   "metadata": {},
   "outputs": [
    {
     "name": "stdout",
     "output_type": "stream",
     "text": [
      "a harfinden  3  kadar var\n"
     ]
    }
   ],
   "source": [
    "adet = 0\n",
    "for index in \"Merhaba Dünya\" :\n",
    "    if index == \"a\" :\n",
    "        adet += 1\n",
    "\n",
    "print(\"a harfinden \" , adet , \" kadar var\")"
   ]
  },
  {
   "cell_type": "code",
   "execution_count": 28,
   "metadata": {},
   "outputs": [
    {
     "name": "stdout",
     "output_type": "stream",
     "text": [
      "2\n",
      "4\n",
      "6\n",
      "8\n",
      "10\n"
     ]
    }
   ],
   "source": [
    "x = 0\n",
    "while x < 10 :\n",
    "    x+=1\n",
    "    # if x % 2 == 1 :\n",
    "    if x % 2 :\n",
    "        continue\n",
    "    # if x % 2 == 0 :\n",
    "    print(x)"
   ]
  },
  {
   "cell_type": "code",
   "execution_count": 29,
   "metadata": {},
   "outputs": [
    {
     "data": {
      "text/plain": [
       "int"
      ]
     },
     "execution_count": 29,
     "metadata": {},
     "output_type": "execute_result"
    }
   ],
   "source": [
    "type(5 % 2)"
   ]
  },
  {
   "cell_type": "code",
   "execution_count": 31,
   "metadata": {},
   "outputs": [
    {
     "data": {
      "text/plain": [
       "2"
      ]
     },
     "execution_count": 31,
     "metadata": {},
     "output_type": "execute_result"
    }
   ],
   "source": [
    "5 % 3"
   ]
  }
 ],
 "metadata": {
  "kernelspec": {
   "display_name": "Python 3.11.0 64-bit",
   "language": "python",
   "name": "python3"
  },
  "language_info": {
   "codemirror_mode": {
    "name": "ipython",
    "version": 3
   },
   "file_extension": ".py",
   "mimetype": "text/x-python",
   "name": "python",
   "nbconvert_exporter": "python",
   "pygments_lexer": "ipython3",
   "version": "3.11.0"
  },
  "orig_nbformat": 4,
  "vscode": {
   "interpreter": {
    "hash": "3805fcecafd0f457c861551e64d5e2c280654faa44a1486f57519e7a94cadd23"
   }
  }
 },
 "nbformat": 4,
 "nbformat_minor": 2
}
